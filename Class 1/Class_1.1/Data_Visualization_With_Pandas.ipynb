{
 "cells": [
  {
   "cell_type": "code",
   "execution_count": 1,
   "id": "da7cb1fc",
   "metadata": {},
   "outputs": [],
   "source": [
    "import pandas as pd"
   ]
  },
  {
   "cell_type": "markdown",
   "id": "81c708f7",
   "metadata": {},
   "source": [
    "## Series\n",
    "\n",
    "Series is a pandas unidimensional array used to store some data. Each observation of the array has an index starting on 0 and going to n-1 by default. We can access each element by its index on the series."
   ]
  },
  {
   "cell_type": "code",
   "execution_count": 2,
   "id": "c50ac306",
   "metadata": {},
   "outputs": [
    {
     "data": {
      "text/plain": [
       "0    1\n",
       "1    2\n",
       "2    3\n",
       "3    4\n",
       "4    5\n",
       "dtype: int64"
      ]
     },
     "execution_count": 2,
     "metadata": {},
     "output_type": "execute_result"
    }
   ],
   "source": [
    "s = pd.Series([1, 2, 3, 4, 5])\n",
    "s"
   ]
  },
  {
   "cell_type": "markdown",
   "id": "4ed1c400",
   "metadata": {},
   "source": [
    "However, sometimes is important to specify the index of the values. For this, we use the index argument of the Series function of pandas library with number of elements corresponding to the number of observations on our data:"
   ]
  },
  {
   "cell_type": "code",
   "execution_count": 4,
   "id": "3ab493ab",
   "metadata": {},
   "outputs": [
    {
     "data": {
      "text/plain": [
       "jan    12\n",
       "fev    14\n",
       "mar    16\n",
       "abr    18\n",
       "mai    20\n",
       "jun    22\n",
       "jul    24\n",
       "ago    26\n",
       "set    28\n",
       "out    30\n",
       "nov    32\n",
       "dez    34\n",
       "dtype: int64"
      ]
     },
     "execution_count": 4,
     "metadata": {},
     "output_type": "execute_result"
    }
   ],
   "source": [
    "s = pd.Series([12, 14, 16, 18, 20, 22, 24, 26, 28, 30, 32, 34], index = ['jan','fev', 'mar',\n",
    "'abr', 'mai', 'jun',\n",
    "'jul', 'ago', 'set',\n",
    "'out','nov', 'dez'])\n",
    "s"
   ]
  },
  {
   "cell_type": "code",
   "execution_count": 5,
   "id": "63c820ac",
   "metadata": {},
   "outputs": [
    {
     "data": {
      "text/plain": [
       "12"
      ]
     },
     "execution_count": 5,
     "metadata": {},
     "output_type": "execute_result"
    }
   ],
   "source": [
    "s['jan']"
   ]
  },
  {
   "cell_type": "markdown",
   "id": "a2182fbd",
   "metadata": {},
   "source": [
    "Even though we'd used other index values for the Series object, we can still access it's values using index and arrays slicing. For example, taking the first six numbers of the series object:"
   ]
  },
  {
   "cell_type": "code",
   "execution_count": 6,
   "id": "a6dafb52",
   "metadata": {},
   "outputs": [
    {
     "data": {
      "text/plain": [
       "jan    12\n",
       "fev    14\n",
       "mar    16\n",
       "abr    18\n",
       "mai    20\n",
       "jun    22\n",
       "dtype: int64"
      ]
     },
     "execution_count": 6,
     "metadata": {},
     "output_type": "execute_result"
    }
   ],
   "source": [
    "s[0:6]"
   ]
  },
  {
   "cell_type": "markdown",
   "id": "e9e929b5",
   "metadata": {},
   "source": [
    "Also, we can apply various statistical functions to the series, like **mean, max, min, std**:"
   ]
  },
  {
   "cell_type": "code",
   "execution_count": 11,
   "id": "6e1ab7f1",
   "metadata": {},
   "outputs": [
    {
     "name": "stdout",
     "output_type": "stream",
     "text": [
      "Mean: 23.0;\n",
      "Min: 12;\n",
      "Max: 34\n",
      "Standard Deviation: 7.211102550927978\n",
      "\n"
     ]
    }
   ],
   "source": [
    "print(f'Mean: {s.mean()};\\nMin: {s.min()};\\nMax: {s.max()}\\nStandard Deviation: {s.std()}\\n')"
   ]
  },
  {
   "cell_type": "code",
   "execution_count": 12,
   "id": "de0546f0",
   "metadata": {},
   "outputs": [
    {
     "data": {
      "text/plain": [
       "count    12.000000\n",
       "mean     23.000000\n",
       "std       7.211103\n",
       "min      12.000000\n",
       "25%      17.500000\n",
       "50%      23.000000\n",
       "75%      28.500000\n",
       "max      34.000000\n",
       "dtype: float64"
      ]
     },
     "execution_count": 12,
     "metadata": {},
     "output_type": "execute_result"
    }
   ],
   "source": [
    "s.describe() # quartis"
   ]
  },
  {
   "cell_type": "code",
   "execution_count": 13,
   "id": "55b898d2",
   "metadata": {},
   "outputs": [
    {
     "data": {
      "text/plain": [
       "276"
      ]
     },
     "execution_count": 13,
     "metadata": {},
     "output_type": "execute_result"
    }
   ],
   "source": [
    "s.sum()"
   ]
  },
  {
   "cell_type": "markdown",
   "id": "e5391a50",
   "metadata": {},
   "source": [
    "An important detail to notice is that a result of a indexing series is also a series."
   ]
  },
  {
   "cell_type": "code",
   "execution_count": 14,
   "id": "ec01f349",
   "metadata": {},
   "outputs": [
    {
     "data": {
      "text/plain": [
       "17.0"
      ]
     },
     "execution_count": 14,
     "metadata": {},
     "output_type": "execute_result"
    }
   ],
   "source": [
    "s[0:6].mean()"
   ]
  },
  {
   "cell_type": "code",
   "execution_count": 15,
   "id": "8c019928",
   "metadata": {},
   "outputs": [
    {
     "name": "stdout",
     "output_type": "stream",
     "text": [
      "Sum of accidents on the first trimester: 42\n",
      "Mean of accidents on the third semestrer: 14.0\n"
     ]
    }
   ],
   "source": [
    "print(f'Sum of accidents on the first trimester: {s[0:3].sum()}\\nMean of accidents on the third semestrer: {s[0:3].mean()}')"
   ]
  },
  {
   "cell_type": "markdown",
   "id": "a9fa2a3e",
   "metadata": {},
   "source": [
    "We can also access all the values stored on a Series object using the **values** attribute of this object:"
   ]
  },
  {
   "cell_type": "code",
   "execution_count": 16,
   "id": "8f592f79",
   "metadata": {},
   "outputs": [
    {
     "data": {
      "text/plain": [
       "array([12, 14, 16, 18, 20, 22, 24, 26, 28, 30, 32, 34], dtype=int64)"
      ]
     },
     "execution_count": 16,
     "metadata": {},
     "output_type": "execute_result"
    }
   ],
   "source": [
    "s.values"
   ]
  },
  {
   "cell_type": "markdown",
   "id": "519a7b05",
   "metadata": {},
   "source": [
    "## Data Frame\n",
    "\n",
    "A data frame is a data structure object from pandas that allow us to build tabular data. It is created with the **DataFrame** function, using as argument a dictionarie with keys being the name of the columns (variables) and the value of it being a list of values (observations) for this corresponding key (variable). By default, the index of the observations will be a continous and ascending sequence starting by 0, being the left column of the data frame.\n",
    "\n",
    "The length of the list of observations must be equal, otherwise the code will crash."
   ]
  },
  {
   "cell_type": "code",
   "execution_count": 19,
   "id": "685a94ee",
   "metadata": {},
   "outputs": [
    {
     "data": {
      "text/html": [
       "<div>\n",
       "<style scoped>\n",
       "    .dataframe tbody tr th:only-of-type {\n",
       "        vertical-align: middle;\n",
       "    }\n",
       "\n",
       "    .dataframe tbody tr th {\n",
       "        vertical-align: top;\n",
       "    }\n",
       "\n",
       "    .dataframe thead th {\n",
       "        text-align: right;\n",
       "    }\n",
       "</style>\n",
       "<table border=\"1\" class=\"dataframe\">\n",
       "  <thead>\n",
       "    <tr style=\"text-align: right;\">\n",
       "      <th></th>\n",
       "      <th>Aluno</th>\n",
       "      <th>Créditos cursados</th>\n",
       "      <th>Rendimento acadêmico</th>\n",
       "      <th>Mês de nascimento</th>\n",
       "      <th>Curso</th>\n",
       "    </tr>\n",
       "  </thead>\n",
       "  <tbody>\n",
       "    <tr>\n",
       "      <th>0</th>\n",
       "      <td>Marina</td>\n",
       "      <td>20</td>\n",
       "      <td>8.55</td>\n",
       "      <td>Novembro</td>\n",
       "      <td>Computação</td>\n",
       "    </tr>\n",
       "    <tr>\n",
       "      <th>1</th>\n",
       "      <td>Felipe</td>\n",
       "      <td>64</td>\n",
       "      <td>7.88</td>\n",
       "      <td>Setembro</td>\n",
       "      <td>Estatística</td>\n",
       "    </tr>\n",
       "    <tr>\n",
       "      <th>2</th>\n",
       "      <td>Cleyton</td>\n",
       "      <td>32</td>\n",
       "      <td>8.17</td>\n",
       "      <td>Janeiro</td>\n",
       "      <td>Computação</td>\n",
       "    </tr>\n",
       "    <tr>\n",
       "      <th>3</th>\n",
       "      <td>Isabel</td>\n",
       "      <td>24</td>\n",
       "      <td>9.04</td>\n",
       "      <td>Julho</td>\n",
       "      <td>Matemática</td>\n",
       "    </tr>\n",
       "  </tbody>\n",
       "</table>\n",
       "</div>"
      ],
      "text/plain": [
       "     Aluno  Créditos cursados  Rendimento acadêmico Mês de nascimento  \\\n",
       "0   Marina                 20                  8.55          Novembro   \n",
       "1   Felipe                 64                  7.88          Setembro   \n",
       "2  Cleyton                 32                  8.17           Janeiro   \n",
       "3   Isabel                 24                  9.04             Julho   \n",
       "\n",
       "         Curso  \n",
       "0   Computação  \n",
       "1  Estatística  \n",
       "2   Computação  \n",
       "3   Matemática  "
      ]
     },
     "execution_count": 19,
     "metadata": {},
     "output_type": "execute_result"
    }
   ],
   "source": [
    "df = pd.DataFrame({'Aluno' : ['Marina','Felipe','Cleyton','Isabel'],\n",
    "'Créditos cursados': [20,64,32,24],\n",
    "'Rendimento acadêmico' : [8.55,7.88,8.17,9.04],\n",
    "'Mês de nascimento' : ['Novembro','Setembro','Janeiro','Julho'],\n",
    "'Curso': ['Computação','Estatística','Computação','Matemática']})\n",
    "\n",
    "df"
   ]
  },
  {
   "cell_type": "markdown",
   "id": "a08b94cb",
   "metadata": {},
   "source": [
    "As we have done on Series, we can use the index values for having access for the observations. For this, we have to use the **iloc** attribute, which will return a structure like: key (variable) <=> observation for the observation with that index"
   ]
  },
  {
   "cell_type": "code",
   "execution_count": 22,
   "id": "55e4b58e",
   "metadata": {},
   "outputs": [
    {
     "data": {
      "text/plain": [
       "Aluno                        Felipe\n",
       "Créditos cursados                64\n",
       "Rendimento acadêmico           7.88\n",
       "Mês de nascimento          Setembro\n",
       "Curso                   Estatística\n",
       "Name: 1, dtype: object"
      ]
     },
     "execution_count": 22,
     "metadata": {},
     "output_type": "execute_result"
    }
   ],
   "source": [
    "df.iloc[1]"
   ]
  },
  {
   "cell_type": "markdown",
   "id": "76019050",
   "metadata": {},
   "source": [
    "A data frame is structure as a 2D series object, which means that we can access the **rows** (observations) using **iloc** attribute and the **columns** using simple indexing as dictionaries keys, and these keys are the names of the columns.\n",
    "\n",
    "For instance, supose that we wanted to have access to all the values of the column \"Rendimento acadêmico\" as a Series object:"
   ]
  },
  {
   "cell_type": "code",
   "execution_count": 24,
   "id": "53a1c552",
   "metadata": {},
   "outputs": [
    {
     "data": {
      "text/plain": [
       "0    8.55\n",
       "1    7.88\n",
       "2    8.17\n",
       "3    9.04\n",
       "Name: Rendimento acadêmico, dtype: float64"
      ]
     },
     "execution_count": 24,
     "metadata": {},
     "output_type": "execute_result"
    }
   ],
   "source": [
    "df['Rendimento acadêmico']"
   ]
  },
  {
   "cell_type": "markdown",
   "id": "14d0cd86",
   "metadata": {},
   "source": [
    "The advantage of this usage is because, as spoken before, Series objects allow us to use various mathmatical and statistical functions."
   ]
  },
  {
   "cell_type": "code",
   "execution_count": 25,
   "id": "21eb70d9",
   "metadata": {},
   "outputs": [
    {
     "data": {
      "text/plain": [
       "count    4.000000\n",
       "mean     8.410000\n",
       "std      0.501664\n",
       "min      7.880000\n",
       "25%      8.097500\n",
       "50%      8.360000\n",
       "75%      8.672500\n",
       "max      9.040000\n",
       "Name: Rendimento acadêmico, dtype: float64"
      ]
     },
     "execution_count": 25,
     "metadata": {},
     "output_type": "execute_result"
    }
   ],
   "source": [
    "df['Rendimento acadêmico'].describe()"
   ]
  },
  {
   "cell_type": "markdown",
   "id": "c011a538",
   "metadata": {},
   "source": [
    "We can also use the describe function to calculate all these values for all quantitative variables at once."
   ]
  },
  {
   "cell_type": "code",
   "execution_count": 26,
   "id": "13480788",
   "metadata": {},
   "outputs": [
    {
     "data": {
      "text/html": [
       "<div>\n",
       "<style scoped>\n",
       "    .dataframe tbody tr th:only-of-type {\n",
       "        vertical-align: middle;\n",
       "    }\n",
       "\n",
       "    .dataframe tbody tr th {\n",
       "        vertical-align: top;\n",
       "    }\n",
       "\n",
       "    .dataframe thead th {\n",
       "        text-align: right;\n",
       "    }\n",
       "</style>\n",
       "<table border=\"1\" class=\"dataframe\">\n",
       "  <thead>\n",
       "    <tr style=\"text-align: right;\">\n",
       "      <th></th>\n",
       "      <th>Créditos cursados</th>\n",
       "      <th>Rendimento acadêmico</th>\n",
       "    </tr>\n",
       "  </thead>\n",
       "  <tbody>\n",
       "    <tr>\n",
       "      <th>count</th>\n",
       "      <td>4.000000</td>\n",
       "      <td>4.000000</td>\n",
       "    </tr>\n",
       "    <tr>\n",
       "      <th>mean</th>\n",
       "      <td>35.000000</td>\n",
       "      <td>8.410000</td>\n",
       "    </tr>\n",
       "    <tr>\n",
       "      <th>std</th>\n",
       "      <td>19.966639</td>\n",
       "      <td>0.501664</td>\n",
       "    </tr>\n",
       "    <tr>\n",
       "      <th>min</th>\n",
       "      <td>20.000000</td>\n",
       "      <td>7.880000</td>\n",
       "    </tr>\n",
       "    <tr>\n",
       "      <th>25%</th>\n",
       "      <td>23.000000</td>\n",
       "      <td>8.097500</td>\n",
       "    </tr>\n",
       "    <tr>\n",
       "      <th>50%</th>\n",
       "      <td>28.000000</td>\n",
       "      <td>8.360000</td>\n",
       "    </tr>\n",
       "    <tr>\n",
       "      <th>75%</th>\n",
       "      <td>40.000000</td>\n",
       "      <td>8.672500</td>\n",
       "    </tr>\n",
       "    <tr>\n",
       "      <th>max</th>\n",
       "      <td>64.000000</td>\n",
       "      <td>9.040000</td>\n",
       "    </tr>\n",
       "  </tbody>\n",
       "</table>\n",
       "</div>"
      ],
      "text/plain": [
       "       Créditos cursados  Rendimento acadêmico\n",
       "count           4.000000              4.000000\n",
       "mean           35.000000              8.410000\n",
       "std            19.966639              0.501664\n",
       "min            20.000000              7.880000\n",
       "25%            23.000000              8.097500\n",
       "50%            28.000000              8.360000\n",
       "75%            40.000000              8.672500\n",
       "max            64.000000              9.040000"
      ]
     },
     "execution_count": 26,
     "metadata": {},
     "output_type": "execute_result"
    }
   ],
   "source": [
    "df.describe()"
   ]
  },
  {
   "cell_type": "markdown",
   "id": "ebc46ecb",
   "metadata": {},
   "source": [
    "## Read CSV\n",
    "\n",
    "``df = pd.read_csv(file_path or url)``"
   ]
  },
  {
   "cell_type": "code",
   "execution_count": 29,
   "id": "ba482f04",
   "metadata": {},
   "outputs": [
    {
     "data": {
      "text/html": [
       "<div>\n",
       "<style scoped>\n",
       "    .dataframe tbody tr th:only-of-type {\n",
       "        vertical-align: middle;\n",
       "    }\n",
       "\n",
       "    .dataframe tbody tr th {\n",
       "        vertical-align: top;\n",
       "    }\n",
       "\n",
       "    .dataframe thead th {\n",
       "        text-align: right;\n",
       "    }\n",
       "</style>\n",
       "<table border=\"1\" class=\"dataframe\">\n",
       "  <thead>\n",
       "    <tr style=\"text-align: right;\">\n",
       "      <th></th>\n",
       "      <th>country</th>\n",
       "      <th>beer_servings</th>\n",
       "      <th>spirit_servings</th>\n",
       "      <th>wine_servings</th>\n",
       "      <th>total_litres_of_pure_alcohol</th>\n",
       "    </tr>\n",
       "  </thead>\n",
       "  <tbody>\n",
       "    <tr>\n",
       "      <th>0</th>\n",
       "      <td>Afghanistan</td>\n",
       "      <td>0</td>\n",
       "      <td>0</td>\n",
       "      <td>0</td>\n",
       "      <td>0.0</td>\n",
       "    </tr>\n",
       "    <tr>\n",
       "      <th>1</th>\n",
       "      <td>Albania</td>\n",
       "      <td>89</td>\n",
       "      <td>132</td>\n",
       "      <td>54</td>\n",
       "      <td>4.9</td>\n",
       "    </tr>\n",
       "    <tr>\n",
       "      <th>2</th>\n",
       "      <td>Algeria</td>\n",
       "      <td>25</td>\n",
       "      <td>0</td>\n",
       "      <td>14</td>\n",
       "      <td>0.7</td>\n",
       "    </tr>\n",
       "    <tr>\n",
       "      <th>3</th>\n",
       "      <td>Andorra</td>\n",
       "      <td>245</td>\n",
       "      <td>138</td>\n",
       "      <td>312</td>\n",
       "      <td>12.4</td>\n",
       "    </tr>\n",
       "    <tr>\n",
       "      <th>4</th>\n",
       "      <td>Angola</td>\n",
       "      <td>217</td>\n",
       "      <td>57</td>\n",
       "      <td>45</td>\n",
       "      <td>5.9</td>\n",
       "    </tr>\n",
       "    <tr>\n",
       "      <th>...</th>\n",
       "      <td>...</td>\n",
       "      <td>...</td>\n",
       "      <td>...</td>\n",
       "      <td>...</td>\n",
       "      <td>...</td>\n",
       "    </tr>\n",
       "    <tr>\n",
       "      <th>188</th>\n",
       "      <td>Venezuela</td>\n",
       "      <td>333</td>\n",
       "      <td>100</td>\n",
       "      <td>3</td>\n",
       "      <td>7.7</td>\n",
       "    </tr>\n",
       "    <tr>\n",
       "      <th>189</th>\n",
       "      <td>Vietnam</td>\n",
       "      <td>111</td>\n",
       "      <td>2</td>\n",
       "      <td>1</td>\n",
       "      <td>2.0</td>\n",
       "    </tr>\n",
       "    <tr>\n",
       "      <th>190</th>\n",
       "      <td>Yemen</td>\n",
       "      <td>6</td>\n",
       "      <td>0</td>\n",
       "      <td>0</td>\n",
       "      <td>0.1</td>\n",
       "    </tr>\n",
       "    <tr>\n",
       "      <th>191</th>\n",
       "      <td>Zambia</td>\n",
       "      <td>32</td>\n",
       "      <td>19</td>\n",
       "      <td>4</td>\n",
       "      <td>2.5</td>\n",
       "    </tr>\n",
       "    <tr>\n",
       "      <th>192</th>\n",
       "      <td>Zimbabwe</td>\n",
       "      <td>64</td>\n",
       "      <td>18</td>\n",
       "      <td>4</td>\n",
       "      <td>4.7</td>\n",
       "    </tr>\n",
       "  </tbody>\n",
       "</table>\n",
       "<p>193 rows × 5 columns</p>\n",
       "</div>"
      ],
      "text/plain": [
       "         country  beer_servings  spirit_servings  wine_servings  \\\n",
       "0    Afghanistan              0                0              0   \n",
       "1        Albania             89              132             54   \n",
       "2        Algeria             25                0             14   \n",
       "3        Andorra            245              138            312   \n",
       "4         Angola            217               57             45   \n",
       "..           ...            ...              ...            ...   \n",
       "188    Venezuela            333              100              3   \n",
       "189      Vietnam            111                2              1   \n",
       "190        Yemen              6                0              0   \n",
       "191       Zambia             32               19              4   \n",
       "192     Zimbabwe             64               18              4   \n",
       "\n",
       "     total_litres_of_pure_alcohol  \n",
       "0                             0.0  \n",
       "1                             4.9  \n",
       "2                             0.7  \n",
       "3                            12.4  \n",
       "4                             5.9  \n",
       "..                            ...  \n",
       "188                           7.7  \n",
       "189                           2.0  \n",
       "190                           0.1  \n",
       "191                           2.5  \n",
       "192                           4.7  \n",
       "\n",
       "[193 rows x 5 columns]"
      ]
     },
     "execution_count": 29,
     "metadata": {},
     "output_type": "execute_result"
    }
   ],
   "source": [
    "df = pd.read_csv('https://raw.githubusercontent.com/fivethirtyeight/data/master/alcohol-consumption/drinks.csv')\n",
    "df"
   ]
  },
  {
   "cell_type": "markdown",
   "id": "7dec750f",
   "metadata": {},
   "source": [
    "Let's understand this data frame:\n",
    "- It has 193 rows, which means 193 observations, one for each country\n",
    "- A qualitative variable called \"country\" which each observation is the name of some country\n",
    "- 4 quantitative variables, being the total of cans of beers drunk, doses of licor, number of glasses of wine, total of liters of alcohol ingested of one person on each country on yer."
   ]
  },
  {
   "cell_type": "markdown",
   "id": "26ee2aaa",
   "metadata": {},
   "source": [
    "## Querying Data\n",
    "\n",
    "Querying data on pandas data frames are very simple, you just have to specify the data frame and pass a condition between [ ]. Pandas will make a boolean mask for the data frame and only the observations with True values for this mask will be shown to you."
   ]
  },
  {
   "cell_type": "code",
   "execution_count": 30,
   "id": "200bdbb1",
   "metadata": {},
   "outputs": [
    {
     "data": {
      "text/html": [
       "<div>\n",
       "<style scoped>\n",
       "    .dataframe tbody tr th:only-of-type {\n",
       "        vertical-align: middle;\n",
       "    }\n",
       "\n",
       "    .dataframe tbody tr th {\n",
       "        vertical-align: top;\n",
       "    }\n",
       "\n",
       "    .dataframe thead th {\n",
       "        text-align: right;\n",
       "    }\n",
       "</style>\n",
       "<table border=\"1\" class=\"dataframe\">\n",
       "  <thead>\n",
       "    <tr style=\"text-align: right;\">\n",
       "      <th></th>\n",
       "      <th>country</th>\n",
       "      <th>beer_servings</th>\n",
       "      <th>spirit_servings</th>\n",
       "      <th>wine_servings</th>\n",
       "      <th>total_litres_of_pure_alcohol</th>\n",
       "    </tr>\n",
       "  </thead>\n",
       "  <tbody>\n",
       "    <tr>\n",
       "      <th>23</th>\n",
       "      <td>Brazil</td>\n",
       "      <td>245</td>\n",
       "      <td>145</td>\n",
       "      <td>16</td>\n",
       "      <td>7.2</td>\n",
       "    </tr>\n",
       "  </tbody>\n",
       "</table>\n",
       "</div>"
      ],
      "text/plain": [
       "   country  beer_servings  spirit_servings  wine_servings  \\\n",
       "23  Brazil            245              145             16   \n",
       "\n",
       "    total_litres_of_pure_alcohol  \n",
       "23                           7.2  "
      ]
     },
     "execution_count": 30,
     "metadata": {},
     "output_type": "execute_result"
    }
   ],
   "source": [
    "df[df['country'] == 'Brazil']"
   ]
  },
  {
   "cell_type": "markdown",
   "id": "8d6b6590",
   "metadata": {},
   "source": [
    "You can have access for values on columns just using its name between [ ] or accessing its name as attribute:"
   ]
  },
  {
   "cell_type": "code",
   "execution_count": 34,
   "id": "c8c62741",
   "metadata": {},
   "outputs": [
    {
     "name": "stdout",
     "output_type": "stream",
     "text": [
      "23    145\n",
      "Name: spirit_servings, dtype: int64\n",
      "23    145\n",
      "Name: spirit_servings, dtype: int64\n"
     ]
    }
   ],
   "source": [
    "print(df[df['country'] == 'Brazil'].spirit_servings)\n",
    "print(df[df['country'] == 'Brazil']['spirit_servings'])"
   ]
  },
  {
   "cell_type": "markdown",
   "id": "3d526695",
   "metadata": {},
   "source": [
    "## Sorting Data Frames\n",
    "\n",
    "We can sort the values of a data frame using the **sort_values** of pandas and saying from which column we want to sort the data with the **by** attribute."
   ]
  },
  {
   "cell_type": "code",
   "execution_count": 38,
   "id": "116b088a",
   "metadata": {},
   "outputs": [
    {
     "data": {
      "text/html": [
       "<div>\n",
       "<style scoped>\n",
       "    .dataframe tbody tr th:only-of-type {\n",
       "        vertical-align: middle;\n",
       "    }\n",
       "\n",
       "    .dataframe tbody tr th {\n",
       "        vertical-align: top;\n",
       "    }\n",
       "\n",
       "    .dataframe thead th {\n",
       "        text-align: right;\n",
       "    }\n",
       "</style>\n",
       "<table border=\"1\" class=\"dataframe\">\n",
       "  <thead>\n",
       "    <tr style=\"text-align: right;\">\n",
       "      <th></th>\n",
       "      <th>country</th>\n",
       "      <th>beer_servings</th>\n",
       "      <th>spirit_servings</th>\n",
       "      <th>wine_servings</th>\n",
       "      <th>total_litres_of_pure_alcohol</th>\n",
       "    </tr>\n",
       "  </thead>\n",
       "  <tbody>\n",
       "    <tr>\n",
       "      <th>15</th>\n",
       "      <td>Belarus</td>\n",
       "      <td>142</td>\n",
       "      <td>373</td>\n",
       "      <td>42</td>\n",
       "      <td>14.4</td>\n",
       "    </tr>\n",
       "    <tr>\n",
       "      <th>98</th>\n",
       "      <td>Lithuania</td>\n",
       "      <td>343</td>\n",
       "      <td>244</td>\n",
       "      <td>56</td>\n",
       "      <td>12.9</td>\n",
       "    </tr>\n",
       "    <tr>\n",
       "      <th>3</th>\n",
       "      <td>Andorra</td>\n",
       "      <td>245</td>\n",
       "      <td>138</td>\n",
       "      <td>312</td>\n",
       "      <td>12.4</td>\n",
       "    </tr>\n",
       "    <tr>\n",
       "      <th>68</th>\n",
       "      <td>Grenada</td>\n",
       "      <td>199</td>\n",
       "      <td>438</td>\n",
       "      <td>28</td>\n",
       "      <td>11.9</td>\n",
       "    </tr>\n",
       "    <tr>\n",
       "      <th>45</th>\n",
       "      <td>Czech Republic</td>\n",
       "      <td>361</td>\n",
       "      <td>170</td>\n",
       "      <td>134</td>\n",
       "      <td>11.8</td>\n",
       "    </tr>\n",
       "    <tr>\n",
       "      <th>...</th>\n",
       "      <td>...</td>\n",
       "      <td>...</td>\n",
       "      <td>...</td>\n",
       "      <td>...</td>\n",
       "      <td>...</td>\n",
       "    </tr>\n",
       "    <tr>\n",
       "      <th>79</th>\n",
       "      <td>Iran</td>\n",
       "      <td>0</td>\n",
       "      <td>0</td>\n",
       "      <td>0</td>\n",
       "      <td>0.0</td>\n",
       "    </tr>\n",
       "    <tr>\n",
       "      <th>90</th>\n",
       "      <td>Kuwait</td>\n",
       "      <td>0</td>\n",
       "      <td>0</td>\n",
       "      <td>0</td>\n",
       "      <td>0.0</td>\n",
       "    </tr>\n",
       "    <tr>\n",
       "      <th>128</th>\n",
       "      <td>Pakistan</td>\n",
       "      <td>0</td>\n",
       "      <td>0</td>\n",
       "      <td>0</td>\n",
       "      <td>0.0</td>\n",
       "    </tr>\n",
       "    <tr>\n",
       "      <th>97</th>\n",
       "      <td>Libya</td>\n",
       "      <td>0</td>\n",
       "      <td>0</td>\n",
       "      <td>0</td>\n",
       "      <td>0.0</td>\n",
       "    </tr>\n",
       "    <tr>\n",
       "      <th>0</th>\n",
       "      <td>Afghanistan</td>\n",
       "      <td>0</td>\n",
       "      <td>0</td>\n",
       "      <td>0</td>\n",
       "      <td>0.0</td>\n",
       "    </tr>\n",
       "  </tbody>\n",
       "</table>\n",
       "<p>193 rows × 5 columns</p>\n",
       "</div>"
      ],
      "text/plain": [
       "            country  beer_servings  spirit_servings  wine_servings  \\\n",
       "15          Belarus            142              373             42   \n",
       "98        Lithuania            343              244             56   \n",
       "3           Andorra            245              138            312   \n",
       "68          Grenada            199              438             28   \n",
       "45   Czech Republic            361              170            134   \n",
       "..              ...            ...              ...            ...   \n",
       "79             Iran              0                0              0   \n",
       "90           Kuwait              0                0              0   \n",
       "128        Pakistan              0                0              0   \n",
       "97            Libya              0                0              0   \n",
       "0       Afghanistan              0                0              0   \n",
       "\n",
       "     total_litres_of_pure_alcohol  \n",
       "15                           14.4  \n",
       "98                           12.9  \n",
       "3                            12.4  \n",
       "68                           11.9  \n",
       "45                           11.8  \n",
       "..                            ...  \n",
       "79                            0.0  \n",
       "90                            0.0  \n",
       "128                           0.0  \n",
       "97                            0.0  \n",
       "0                             0.0  \n",
       "\n",
       "[193 rows x 5 columns]"
      ]
     },
     "execution_count": 38,
     "metadata": {},
     "output_type": "execute_result"
    }
   ],
   "source": [
    "df.sort_values(by='total_litres_of_pure_alcohol', ascending=False)"
   ]
  }
 ],
 "metadata": {
  "kernelspec": {
   "display_name": "Python 3",
   "language": "python",
   "name": "python3"
  },
  "language_info": {
   "codemirror_mode": {
    "name": "ipython",
    "version": 3
   },
   "file_extension": ".py",
   "mimetype": "text/x-python",
   "name": "python",
   "nbconvert_exporter": "python",
   "pygments_lexer": "ipython3",
   "version": "3.8.8"
  }
 },
 "nbformat": 4,
 "nbformat_minor": 5
}
