{
 "cells": [
  {
   "cell_type": "code",
   "execution_count": 6,
   "id": "3c5fb67b",
   "metadata": {},
   "outputs": [
    {
     "name": "stdout",
     "output_type": "stream",
     "text": [
      "Collecting pandas\n",
      "  Downloading pandas-1.3.4-cp37-cp37m-win_amd64.whl (10.0 MB)\n",
      "Collecting pytz>=2017.3\n",
      "  Downloading pytz-2021.3-py2.py3-none-any.whl (503 kB)\n",
      "Requirement already satisfied: numpy>=1.17.3 in c:\\users\\user\\appdata\\local\\programs\\python\\python37\\lib\\site-packages (from pandas) (1.21.3)\n",
      "Requirement already satisfied: python-dateutil>=2.7.3 in c:\\users\\user\\appdata\\local\\programs\\python\\python37\\lib\\site-packages (from pandas) (2.8.1)\n",
      "Requirement already satisfied: six>=1.5 in c:\\users\\user\\appdata\\roaming\\python\\python37\\site-packages (from python-dateutil>=2.7.3->pandas) (1.15.0)\n",
      "Installing collected packages: pytz, pandas\n",
      "Successfully installed pandas-1.3.4 pytz-2021.3\n"
     ]
    },
    {
     "name": "stderr",
     "output_type": "stream",
     "text": [
      "WARNING: You are using pip version 21.2.4; however, version 21.3.1 is available.\n",
      "You should consider upgrading via the 'c:\\users\\user\\appdata\\local\\programs\\python\\python37\\python.exe -m pip install --upgrade pip' command.\n"
     ]
    }
   ],
   "source": [
    "!pip install pandas"
   ]
  },
  {
   "cell_type": "code",
   "execution_count": 40,
   "id": "e4f3c6cc",
   "metadata": {},
   "outputs": [],
   "source": [
    "import pandas as pd\n",
    "import numpy"
   ]
  },
  {
   "cell_type": "code",
   "execution_count": 8,
   "id": "56002d72",
   "metadata": {},
   "outputs": [],
   "source": [
    "df = pd.read_csv('https://d11s0xq1vqg039.cloudfront.net/videos_conteudo/visual/micro01/oficina/arquivos/dadosoficina01.txt')"
   ]
  },
  {
   "cell_type": "code",
   "execution_count": 9,
   "id": "a0eb769b",
   "metadata": {},
   "outputs": [
    {
     "data": {
      "text/html": [
       "<div>\n",
       "<style scoped>\n",
       "    .dataframe tbody tr th:only-of-type {\n",
       "        vertical-align: middle;\n",
       "    }\n",
       "\n",
       "    .dataframe tbody tr th {\n",
       "        vertical-align: top;\n",
       "    }\n",
       "\n",
       "    .dataframe thead th {\n",
       "        text-align: right;\n",
       "    }\n",
       "</style>\n",
       "<table border=\"1\" class=\"dataframe\">\n",
       "  <thead>\n",
       "    <tr style=\"text-align: right;\">\n",
       "      <th></th>\n",
       "      <th>country</th>\n",
       "      <th>beer_servings</th>\n",
       "      <th>spirit_servings</th>\n",
       "      <th>wine_servings</th>\n",
       "      <th>total_litres_of_pure_alcohol</th>\n",
       "    </tr>\n",
       "  </thead>\n",
       "  <tbody>\n",
       "    <tr>\n",
       "      <th>0</th>\n",
       "      <td>Afghanistan</td>\n",
       "      <td>0</td>\n",
       "      <td>0</td>\n",
       "      <td>0</td>\n",
       "      <td>0.0</td>\n",
       "    </tr>\n",
       "    <tr>\n",
       "      <th>1</th>\n",
       "      <td>Albania</td>\n",
       "      <td>89</td>\n",
       "      <td>132</td>\n",
       "      <td>54</td>\n",
       "      <td>4.9</td>\n",
       "    </tr>\n",
       "    <tr>\n",
       "      <th>2</th>\n",
       "      <td>Algeria</td>\n",
       "      <td>25</td>\n",
       "      <td>0</td>\n",
       "      <td>14</td>\n",
       "      <td>0.7</td>\n",
       "    </tr>\n",
       "    <tr>\n",
       "      <th>3</th>\n",
       "      <td>Andorra</td>\n",
       "      <td>245</td>\n",
       "      <td>138</td>\n",
       "      <td>312</td>\n",
       "      <td>12.4</td>\n",
       "    </tr>\n",
       "    <tr>\n",
       "      <th>4</th>\n",
       "      <td>Angola</td>\n",
       "      <td>217</td>\n",
       "      <td>57</td>\n",
       "      <td>45</td>\n",
       "      <td>5.9</td>\n",
       "    </tr>\n",
       "  </tbody>\n",
       "</table>\n",
       "</div>"
      ],
      "text/plain": [
       "       country  beer_servings  spirit_servings  wine_servings  \\\n",
       "0  Afghanistan              0                0              0   \n",
       "1      Albania             89              132             54   \n",
       "2      Algeria             25                0             14   \n",
       "3      Andorra            245              138            312   \n",
       "4       Angola            217               57             45   \n",
       "\n",
       "   total_litres_of_pure_alcohol  \n",
       "0                           0.0  \n",
       "1                           4.9  \n",
       "2                           0.7  \n",
       "3                          12.4  \n",
       "4                           5.9  "
      ]
     },
     "execution_count": 9,
     "metadata": {},
     "output_type": "execute_result"
    }
   ],
   "source": [
    "df.head()"
   ]
  },
  {
   "cell_type": "markdown",
   "id": "d22e1000",
   "metadata": {},
   "source": [
    "beer_servings = litros de cerveja consumidos por pessoa em 2010\n",
    "\n",
    "sipirit_servings = litros de licor consumidos por pessoa em 2010\n",
    "\n",
    "wine_servings = litros de vinho consumidos por pessoa em 2010\n",
    "\n",
    "total_litres_of_pure_alcohol = total de livros de álcool consumidos por pessoa em 2010\n"
   ]
  },
  {
   "cell_type": "markdown",
   "id": "932f7098",
   "metadata": {},
   "source": [
    "## Qual a média e desvio padrão do consumo de cerveja, licor, vinho e total de álcool?"
   ]
  },
  {
   "cell_type": "markdown",
   "id": "e93f6cde",
   "metadata": {},
   "source": [
    "### Média e DP do consumo de cerveja"
   ]
  },
  {
   "cell_type": "code",
   "execution_count": 20,
   "id": "e84d8577",
   "metadata": {},
   "outputs": [
    {
     "name": "stdout",
     "output_type": "stream",
     "text": [
      "Média do consumo de cerveja entre todos os países: 106.16062176165804 L/ano\n",
      "Desvio padão de consumo de cerveja entre todos os países: 101.1431025393134\n"
     ]
    }
   ],
   "source": [
    "mean_of_beer_servings_for_all_countries = df['beer_servings'].mean()\n",
    "std_deviation_of_beer_servings_for_all_countries = df['beer_servings'].std()\n",
    "\n",
    "print(f'Média do consumo de cerveja entre todos os países: {mean_of_beer_servings_for_all_countries} L/ano')\n",
    "print(f'Desvio padão de consumo de cerveja entre todos os países: {std_deviation_of_beer_servings_for_all_countries}')"
   ]
  },
  {
   "cell_type": "markdown",
   "id": "81361f3d",
   "metadata": {},
   "source": [
    "### Média e DP do consumo total de licor"
   ]
  },
  {
   "cell_type": "code",
   "execution_count": 19,
   "id": "2db69043",
   "metadata": {},
   "outputs": [
    {
     "name": "stdout",
     "output_type": "stream",
     "text": [
      "Média do consumo de licor entre todos os países: 80.99481865284974 L/ano\n",
      "Desvio padrão do consumo de licor entre todos os países: 88.2843121096862\n"
     ]
    }
   ],
   "source": [
    "mean_of_spirit_servings_for_all_countries = df['spirit_servings'].mean()\n",
    "std_deviation_of_spirit_servings_for_all_countries = df['spirit_servings'].std()\n",
    "\n",
    "print(f'Média do consumo de licor entre todos os países: {mean_of_spirit_servings_for_all_countries} L/ano')\n",
    "print(f'Desvio padrão do consumo de licor entre todos os países: {std_deviation_of_spirit_servings_for_all_countries}')"
   ]
  },
  {
   "cell_type": "markdown",
   "id": "3ddb6c24",
   "metadata": {},
   "source": [
    "### Média e DP do consumo total de vinho"
   ]
  },
  {
   "cell_type": "code",
   "execution_count": 23,
   "id": "19fa6095",
   "metadata": {},
   "outputs": [
    {
     "name": "stdout",
     "output_type": "stream",
     "text": [
      "Média do consumo de vinho entre todos os países: 49.45077720207254\n",
      "Desvio padão do consumo de vinho entre todos os países: 88.2843121096862\n"
     ]
    }
   ],
   "source": [
    "mean_of_wine_servings_for_all_countries = df['wine_servings'].mean()\n",
    "std_deviation_of_wine_servings_for_all_countries = df['spirit_servings'].std()\n",
    "\n",
    "print(f'Média do consumo de vinho entre todos os países: {mean_of_wine_servings_for_all_countries}')\n",
    "print(f'Desvio padão do consumo de vinho entre todos os países: {std_deviation_of_wine_servings_for_all_countries}')"
   ]
  },
  {
   "cell_type": "markdown",
   "id": "ba4bbb53",
   "metadata": {},
   "source": [
    "### Média e DP do consumo total de álcool"
   ]
  },
  {
   "cell_type": "code",
   "execution_count": 27,
   "id": "42a5e731",
   "metadata": {},
   "outputs": [
    {
     "name": "stdout",
     "output_type": "stream",
     "text": [
      "Média do consumo total de álcool entre todos os países: 4.717098445595855 L/ano\n",
      "Desvio padrão do consumo total de álcool entre todos os países: 3.7732981643560835\n"
     ]
    }
   ],
   "source": [
    "mean_of_alcohol_servings_for_all_countries = df['total_litres_of_pure_alcohol'].mean()\n",
    "std_deviation_of_alcohol_servings_for_all_countries = df['total_litres_of_pure_alcohol'].std()\n",
    "\n",
    "print(f'Média do consumo total de álcool entre todos os países: {mean_of_alcohol_servings_for_all_countries} L/ano')\n",
    "print(f'Desvio padrão do consumo total de álcool entre todos os países: {std_deviation_of_alcohol_servings_for_all_countries}')"
   ]
  },
  {
   "cell_type": "code",
   "execution_count": 28,
   "id": "e7db3247",
   "metadata": {},
   "outputs": [
    {
     "data": {
      "text/html": [
       "<div>\n",
       "<style scoped>\n",
       "    .dataframe tbody tr th:only-of-type {\n",
       "        vertical-align: middle;\n",
       "    }\n",
       "\n",
       "    .dataframe tbody tr th {\n",
       "        vertical-align: top;\n",
       "    }\n",
       "\n",
       "    .dataframe thead th {\n",
       "        text-align: right;\n",
       "    }\n",
       "</style>\n",
       "<table border=\"1\" class=\"dataframe\">\n",
       "  <thead>\n",
       "    <tr style=\"text-align: right;\">\n",
       "      <th></th>\n",
       "      <th>beer_servings</th>\n",
       "      <th>spirit_servings</th>\n",
       "      <th>wine_servings</th>\n",
       "      <th>total_litres_of_pure_alcohol</th>\n",
       "    </tr>\n",
       "  </thead>\n",
       "  <tbody>\n",
       "    <tr>\n",
       "      <th>count</th>\n",
       "      <td>193.000000</td>\n",
       "      <td>193.000000</td>\n",
       "      <td>193.000000</td>\n",
       "      <td>193.000000</td>\n",
       "    </tr>\n",
       "    <tr>\n",
       "      <th>mean</th>\n",
       "      <td>106.160622</td>\n",
       "      <td>80.994819</td>\n",
       "      <td>49.450777</td>\n",
       "      <td>4.717098</td>\n",
       "    </tr>\n",
       "    <tr>\n",
       "      <th>std</th>\n",
       "      <td>101.143103</td>\n",
       "      <td>88.284312</td>\n",
       "      <td>79.697598</td>\n",
       "      <td>3.773298</td>\n",
       "    </tr>\n",
       "    <tr>\n",
       "      <th>min</th>\n",
       "      <td>0.000000</td>\n",
       "      <td>0.000000</td>\n",
       "      <td>0.000000</td>\n",
       "      <td>0.000000</td>\n",
       "    </tr>\n",
       "    <tr>\n",
       "      <th>25%</th>\n",
       "      <td>20.000000</td>\n",
       "      <td>4.000000</td>\n",
       "      <td>1.000000</td>\n",
       "      <td>1.300000</td>\n",
       "    </tr>\n",
       "    <tr>\n",
       "      <th>50%</th>\n",
       "      <td>76.000000</td>\n",
       "      <td>56.000000</td>\n",
       "      <td>8.000000</td>\n",
       "      <td>4.200000</td>\n",
       "    </tr>\n",
       "    <tr>\n",
       "      <th>75%</th>\n",
       "      <td>188.000000</td>\n",
       "      <td>128.000000</td>\n",
       "      <td>59.000000</td>\n",
       "      <td>7.200000</td>\n",
       "    </tr>\n",
       "    <tr>\n",
       "      <th>max</th>\n",
       "      <td>376.000000</td>\n",
       "      <td>438.000000</td>\n",
       "      <td>370.000000</td>\n",
       "      <td>14.400000</td>\n",
       "    </tr>\n",
       "  </tbody>\n",
       "</table>\n",
       "</div>"
      ],
      "text/plain": [
       "       beer_servings  spirit_servings  wine_servings  \\\n",
       "count     193.000000       193.000000     193.000000   \n",
       "mean      106.160622        80.994819      49.450777   \n",
       "std       101.143103        88.284312      79.697598   \n",
       "min         0.000000         0.000000       0.000000   \n",
       "25%        20.000000         4.000000       1.000000   \n",
       "50%        76.000000        56.000000       8.000000   \n",
       "75%       188.000000       128.000000      59.000000   \n",
       "max       376.000000       438.000000     370.000000   \n",
       "\n",
       "       total_litres_of_pure_alcohol  \n",
       "count                    193.000000  \n",
       "mean                       4.717098  \n",
       "std                        3.773298  \n",
       "min                        0.000000  \n",
       "25%                        1.300000  \n",
       "50%                        4.200000  \n",
       "75%                        7.200000  \n",
       "max                       14.400000  "
      ]
     },
     "execution_count": 28,
     "metadata": {},
     "output_type": "execute_result"
    }
   ],
   "source": [
    "df.describe() # Forma alternativa"
   ]
  },
  {
   "cell_type": "markdown",
   "id": "60c07895",
   "metadata": {},
   "source": [
    "Pelos resultados obtidos na tabela acima, podemos conduzir 4 análises a respeito de todos os países:\n",
    "\n",
    "- Para a quantidade total de litros de cerveja consumidos por ano, temos que a média é 106.160622 e o desvio padrão 101.143103, tendo assim dados bem dispersos, com mais ou menos 100 litros de consumo a menos ou a mais do que a média total por ano. De todos os países estudados, 25% deles apresentavam consumo de cerveja menor ou igual a 20 L/ano, enquanto que 50% deles possuíam consumo menor ou igual a 76 L/ano e até 75% dos mesmos apresentavam consumo menor ou igual a 188 L/ano, sendo o maior consumo de cerveja de 376 L/ano.\n",
    "\n",
    "\n",
    "- Para a quantidade total de litros de licor consumidos por ano, temos que a média é 80.994819 e o desvio padrão 79.697598, tendo dados bem dispersos, aproximadamente 80 Litros acima e abaixo da média. O menor valor de consumo é 0 L/ano, talvez por uma incapacidade de medição. Até 25% de todos os consumos dos países estavam abaixo de 4L/ano, até 50% dos países possuem consumo de licor abaixo ou igual a 56 L/ano e até 75% dos países possuíam consumo de licor menor ou igual a 128 L/ano (análise dos quartis). O máximo consumo de licor em um país se deu com 438 Litros por ano.\n",
    "\n",
    "\n",
    "- Para a quantidade total de litros de vinho consumidos por ano, temo que a média é 49.450777, o desvio padrão 79.697598. Analisando os quartis, 25% dos países possuem consumo de vinho menor do que 1 L / ano, enquanto 50% dos países possuem consumo menor do que 8L/ano e 75% possuem consumo menor do que 59L/ano. O máximo consumo de vinho é de 370L/ano.\n",
    "\n",
    "\n",
    "- Para a quantidade total de álcool consumida pelos países, temos que a média é 4.717098 L/ano com desvio padrão de 3.773298L/ano. Até 25% dos países possuíam consumo total de álcool menor do que 3L/ano, até 50% dos países possuíam consumo de álcool até 4.2 L/ano e até 75% dos países possuíam consumo menor do que 7.2L/ano.\n",
    "\n"
   ]
  },
  {
   "cell_type": "markdown",
   "id": "3568edcd",
   "metadata": {},
   "source": [
    "## Qual o consumo de licor na França?\n",
    "\n",
    "Para este exercício, irei realizar uma query ao data frame para retornar um novo data frame apenas com os dados da frança e irei acessar os dados da coluna \"spirit_servings\"."
   ]
  },
  {
   "cell_type": "code",
   "execution_count": 36,
   "id": "1fe1c999",
   "metadata": {},
   "outputs": [
    {
     "data": {
      "text/plain": [
       "61    151\n",
       "Name: spirit_servings, dtype: int64"
      ]
     },
     "execution_count": 36,
     "metadata": {},
     "output_type": "execute_result"
    }
   ],
   "source": [
    "df_with_only_france_data = df[df['country'] == 'France']\n",
    "df_with_only_france_data['spirit_servings']"
   ]
  },
  {
   "cell_type": "markdown",
   "id": "0c859043",
   "metadata": {},
   "source": [
    "Ou seja, o consumo de licor em Litros por ano por uma pessoa na França em 2010 foi 151 L/ano"
   ]
  },
  {
   "cell_type": "markdown",
   "id": "5a2f1d8b",
   "metadata": {},
   "source": [
    "## Quais os 5 países nos quais se consome mais vinho?\n",
    "\n",
    "Para isto, podemos organizar os dados do dataframe utilizando o método ``sort_values`` e utilizando a coluna \"wine_servings\" no atributo \"by\". Após isso, utilizamos o método head para obter o nome dos 5 países onde mais se consomem vinho."
   ]
  },
  {
   "cell_type": "code",
   "execution_count": 46,
   "id": "a191eea8",
   "metadata": {},
   "outputs": [
    {
     "name": "stdout",
     "output_type": "stream",
     "text": [
      "Países que mais consomem vinho, em ordem: \n",
      "['France' 'Portugal' 'Andorra' 'Switzerland' 'Denmark']\n"
     ]
    }
   ],
   "source": [
    "countries = df.sort_values(by=\"wine_servings\", ascending=False).country[0:5]\n",
    "print('Países que mais consomem vinho, em ordem decrescente: ')\n",
    "print(countries.values)"
   ]
  },
  {
   "cell_type": "markdown",
   "id": "5e0b6df4",
   "metadata": {},
   "source": [
    "## Quais os países nos quais o consumo de cerveja está acima da média?\n",
    "\n",
    "Para isto, filtraremos o data frame original de forma a retornar um novo com observações apenas dos países nos quais o consumo de álcool é menor do que o da média de todos os países:"
   ]
  },
  {
   "cell_type": "code",
   "execution_count": 51,
   "id": "7513a630",
   "metadata": {},
   "outputs": [
    {
     "name": "stdout",
     "output_type": "stream",
     "text": [
      "Países com consumo de álcool acima da média, em ordem: \n",
      "['Namibia' 'Czech Republic' 'Gabon' 'Germany' 'Poland' 'Lithuania'\n",
      " 'Venezuela' 'Ireland' 'Palau' 'Romania' 'Belgium' 'Panama' 'Spain'\n",
      " 'Serbia' 'Latvia' 'Austria' 'Slovenia' 'Finland' 'Belize' 'Australia'\n",
      " 'Netherlands' 'USA' 'Russian Federation' 'Andorra' 'Brazil' 'Canada'\n",
      " 'Mexico' 'Luxembourg' 'Hungary' 'Iceland' 'Bulgaria' 'Croatia'\n",
      " 'South Africa' 'Denmark' 'Estonia' 'United Kingdom' 'Angola' 'Paraguay'\n",
      " 'Ukraine' 'New Zealand' 'Grenada' 'Trinidad & Tobago' 'Slovakia'\n",
      " 'St. Kitts & Nevis' 'Portugal' 'Dominican Republic' 'Argentina' 'Cyprus'\n",
      " 'Niue' 'Switzerland' 'Botswana' 'St. Lucia' 'Norway' 'Bolivia' 'Peru'\n",
      " 'Ecuador' 'Colombia' 'Seychelles' 'Sweden' 'Malta' 'Costa Rica'\n",
      " 'Cameroon' 'Cabo Verde' 'Barbados' 'Belarus' 'South Korea' 'Greece'\n",
      " 'Chile' 'Suriname' 'France' 'Kazakhstan' 'Bahamas'\n",
      " 'St. Vincent & the Grenadines' 'Uruguay' 'Vietnam' 'Moldova']\n"
     ]
    }
   ],
   "source": [
    "countries = df[df['beer_servings'] > mean_of_beer_servings_for_all_countries].sort_values(by='beer_servings', ascending=False).country\n",
    "print('Países com consumo de álcool acima da média, em ordem decrescente: ')\n",
    "print(countries.values)"
   ]
  },
  {
   "cell_type": "markdown",
   "id": "7dbe2ad4",
   "metadata": {},
   "source": [
    "## Quais países nos quais o consumo total de álcool está acima do Brasil, em ordem do menor para o maior\n",
    "\n",
    "Para isto, irei realizar uma query no data frame original filtrando o campo \"beer_servings\". Assim, o novo data frame só possuirá observações as quais o campo \"beer_servings\" possuir um valor maior o que o do Brasil."
   ]
  },
  {
   "cell_type": "code",
   "execution_count": 60,
   "id": "c1e2be38",
   "metadata": {},
   "outputs": [
    {
     "data": {
      "text/plain": [
       "245"
      ]
     },
     "execution_count": 60,
     "metadata": {},
     "output_type": "execute_result"
    }
   ],
   "source": [
    "brazil_beer_servings = df[df['country'] == 'Brazil'].beer_servings\n",
    "brazil_beer_servings.iloc[0]"
   ]
  },
  {
   "cell_type": "code",
   "execution_count": 64,
   "id": "ff4464eb",
   "metadata": {},
   "outputs": [
    {
     "data": {
      "text/plain": [
       "array(['Namibia', 'Czech Republic', 'Gabon', 'Germany', 'Poland',\n",
       "       'Lithuania', 'Venezuela', 'Ireland', 'Palau', 'Romania', 'Belgium',\n",
       "       'Panama', 'Spain', 'Serbia', 'Latvia', 'Austria', 'Slovenia',\n",
       "       'Finland', 'Belize', 'Australia', 'Netherlands', 'USA',\n",
       "       'Russian Federation'], dtype=object)"
      ]
     },
     "execution_count": 64,
     "metadata": {},
     "output_type": "execute_result"
    }
   ],
   "source": [
    "countries = df[df['beer_servings'] > brazil_beer_servings.iloc[0]].sort_values(by='beer_servings', ascending=False).country\n",
    "countries.values"
   ]
  }
 ],
 "metadata": {
  "kernelspec": {
   "display_name": "Python 3 (ipykernel)",
   "language": "python",
   "name": "python3"
  },
  "language_info": {
   "codemirror_mode": {
    "name": "ipython",
    "version": 3
   },
   "file_extension": ".py",
   "mimetype": "text/x-python",
   "name": "python",
   "nbconvert_exporter": "python",
   "pygments_lexer": "ipython3",
   "version": "3.7.6"
  }
 },
 "nbformat": 4,
 "nbformat_minor": 5
}
