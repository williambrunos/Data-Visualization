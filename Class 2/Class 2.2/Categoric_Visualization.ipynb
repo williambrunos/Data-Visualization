{
  "cells": [
    {
      "cell_type": "markdown",
      "metadata": {
        "id": "view-in-github",
        "colab_type": "text"
      },
      "source": [
        "<a href=\"https://colab.research.google.com/github/williambrunos/Data-Visualization/blob/main/Class%202/Class%202.2/Categoric_Visualization.ipynb\" target=\"_parent\"><img src=\"https://colab.research.google.com/assets/colab-badge.svg\" alt=\"Open In Colab\"/></a>"
      ]
    },
    {
      "cell_type": "markdown",
      "source": [
        "# Visualizing Categoric Data: Proportions\n",
        "\n",
        "It's important to visualize proportions between different categories on our data."
      ],
      "metadata": {
        "id": "PTysx3h5CPiI"
      },
      "id": "PTysx3h5CPiI"
    },
    {
      "cell_type": "code",
      "source": [
        "import pandas as pd\n",
        "import matplotlib.pyplot as plt\n",
        "%matplotlib inline"
      ],
      "metadata": {
        "id": "9vX1pPylDXrZ"
      },
      "id": "9vX1pPylDXrZ",
      "execution_count": 1,
      "outputs": []
    },
    {
      "cell_type": "markdown",
      "source": [
        "## Pie Chart\n",
        "\n",
        "Pie charts  are commonly used when we want to see percentages on our data, parts of a whole.\n",
        "\n",
        "On matplotlib, we use the **pie** function to create a pie chart. As on other functions on this librarie, pie function accepts many parameters to customize the visualization.\n",
        "\n",
        "The basics of it:\n",
        "- A quantitie iterable (python list or pandas series) for quantifying the categories.\n",
        "- A categories iterable (python lists or pandas series) for labeling the categories of the data."
      ],
      "metadata": {
        "id": "HPPSjFiKCtnE"
      },
      "id": "HPPSjFiKCtnE"
    },
    {
      "cell_type": "code",
      "source": [
        "# Run this cell\n",
        "plt.pie?"
      ],
      "metadata": {
        "id": "2Fc0CPmsEXI_"
      },
      "id": "2Fc0CPmsEXI_",
      "execution_count": 15,
      "outputs": []
    },
    {
      "cell_type": "code",
      "execution_count": 9,
      "id": "3d96bccb",
      "metadata": {
        "id": "3d96bccb",
        "outputId": "b0e9e19b-2bad-4a3f-bade-1180d044d6de",
        "colab": {
          "base_uri": "https://localhost:8080/",
          "height": 264
        }
      },
      "outputs": [
        {
          "output_type": "display_data",
          "data": {
            "image/png": "[encoded data removed]",
            "text/plain": [
              "<Figure size 432x288 with 1 Axes>"
            ]
          },
          "metadata": {}
        }
      ],
      "source": [
        "categories = ['Dog', 'Cat', 'Lion']\n",
        "quantities = [100, 200, 300]\n",
        "plt.title('Species Proportioons')\n",
        "plt.pie(x = quantities, labels = categories)\n",
        "plt.show()"
      ]
    },
    {
      "cell_type": "markdown",
      "source": [
        "See that with just this we can analyse the proportions and take results from it. But...the human eyes perception for areas distinguishment is not so good as we might think. Because of that, it's importatn to add the respectives percentages of each area of the pie chart."
      ],
      "metadata": {
        "id": "RThPEdiIFVYz"
      },
      "id": "RThPEdiIFVYz"
    },
    {
      "cell_type": "code",
      "source": [
        "plt.style.use('seaborn-pastel')\n",
        "plt.title('Species Percentages')\n",
        "plt.pie(x = quantities, labels = categories, autopct='%1.2f%%')\n",
        "plt.show()"
      ],
      "metadata": {
        "id": "QK_1CKruFqC6",
        "outputId": "9d0461cd-0ebe-4b94-88ba-7a26d424ee22",
        "colab": {
          "base_uri": "https://localhost:8080/",
          "height": 264
        }
      },
      "id": "QK_1CKruFqC6",
      "execution_count": 12,
      "outputs": [
        {
          "output_type": "display_data",
          "data": {
            "image/png": "[encoded data removed]",
            "text/plain": [
              "<Figure size 432x288 with 1 Axes>"
            ]
          },
          "metadata": {}
        }
      ]
    },
    {
      "cell_type": "markdown",
      "source": [
        "In **autopct** we used a string as argument to indicate that we want to see the percentages with 2 decimal numbers.\n",
        "\n",
        "A complete reference to matplotlib styles can be seen at:\n",
        "https://matplotlib.org/3.1.0/gallery/style_sheets/style_sheets_reference.html\n",
        "\n",
        "A complete reference to matplotlib pie chat function can be seen at:\n",
        "https://matplotlib.org/3.1.0/gallery/style_sheets/style_sheets_reference.html"
      ],
      "metadata": {
        "id": "foDn2PI8HimD"
      },
      "id": "foDn2PI8HimD"
    },
    {
      "cell_type": "markdown",
      "source": [
        "## Donut Chart\n",
        "\n",
        "Sometimes, it's difficult to distinguish some areas on the pie chart. Because of this, we can use the donut chart, which has the same essence of the pie chart, but the proprotions here are seen by the angles of categories, not by its areas."
      ],
      "metadata": {
        "id": "mNInc5bpIOHq"
      },
      "id": "mNInc5bpIOHq"
    },
    {
      "cell_type": "code",
      "source": [
        "races = ['Poodle', 'Golden Retriver', 'Bulldog', 'Pastor Alemão', 'Labrador', 'Undefined']\n",
        "quant_races = [25,15,5,20,25,10]\n",
        "\n",
        "plt.title('Dog Species Proportions')\n",
        "plt.pie(x = quant_races, labels = races, autopct='%1.2f%%')\n",
        "plt.show()"
      ],
      "metadata": {
        "id": "5lCqeAJCHyrK",
        "outputId": "73508d7f-5387-495d-afe0-218dfc3bda8d",
        "colab": {
          "base_uri": "https://localhost:8080/",
          "height": 264
        }
      },
      "id": "5lCqeAJCHyrK",
      "execution_count": 18,
      "outputs": [
        {
          "output_type": "display_data",
          "data": {
            "image/png": "[encoded data removed]",
            "text/plain": [
              "<Figure size 432x288 with 1 Axes>"
            ]
          },
          "metadata": {}
        }
      ]
    },
    {
      "cell_type": "markdown",
      "source": [
        "Matplotlib does not have a donut chart function by itself, but we can achieve it by doing a pie chart and drawing a white circle in the center of it."
      ],
      "metadata": {
        "id": "MULmOBM9JXI-"
      },
      "id": "MULmOBM9JXI-"
    },
    {
      "cell_type": "code",
      "source": [
        "plt.pie(x = quant_races, labels = races, startangle = 90, pctdistance = 0.85)\n",
        "my_circle=plt.Circle((0,0), 0.7, color='white')\n",
        "p = plt.gcf()\n",
        "p.gca().add_artist(my_circle)\n",
        "plt.title('Dog Species Proportion')\n",
        "plt.show()"
      ],
      "metadata": {
        "id": "TXsYtFTtJgej",
        "outputId": "55ded902-07c4-45a1-c151-7c07b3b5b5f0",
        "colab": {
          "base_uri": "https://localhost:8080/",
          "height": 264
        }
      },
      "id": "TXsYtFTtJgej",
      "execution_count": 19,
      "outputs": [
        {
          "output_type": "display_data",
          "data": {
            "image/png": "[encoded data removed]",
            "text/plain": [
              "<Figure size 432x288 with 1 Axes>"
            ]
          },
          "metadata": {}
        }
      ]
    },
    {
      "cell_type": "markdown",
      "source": [
        "### Pie and Donut Charts Weakness\n",
        "\n",
        "- It's not efficient to visualize proportions with areas and angles, especially if there are simlar areas or angles.\n",
        "- If we have a lot of categories, pie chart or donut charts are bad for visualizing data proportions (at max 5 categories).\n",
        "- Don't use 3D on the visualizations! It distocers the areas and do not do the job of a good data visualization."
      ],
      "metadata": {
        "id": "2yFM0bLXLTGn"
      },
      "id": "2yFM0bLXLTGn"
    },
    {
      "cell_type": "markdown",
      "source": [
        "## Bar Graphs\n",
        "\n",
        "Bar graphs are good choices to use instead of pie or donut charts for data with a lot of categories. It can represent well proportions on a beaultiful way.\n",
        "\n",
        "For the nest examples, we are going to use this dataset (videogames sales):\n",
        "https://raw.githubusercontent.com/cabrau/curso-analise-visualizacao-dados-python/master/vgsales.csv"
      ],
      "metadata": {
        "id": "6W3taYi7Muay"
      },
      "id": "6W3taYi7Muay"
    },
    {
      "cell_type": "code",
      "source": [
        "df = pd.read_csv('https://raw.githubusercontent.com/cabrau/curso-analise-visualizacao-dados-python/master/vgsales.csv')\n",
        "df.head()"
      ],
      "metadata": {
        "id": "T7kA2c_PLurt",
        "outputId": "55206407-b033-4071-9522-1aa99632ef7c",
        "colab": {
          "base_uri": "https://localhost:8080/",
          "height": 206
        }
      },
      "id": "T7kA2c_PLurt",
      "execution_count": 30,
      "outputs": [
        {
          "output_type": "execute_result",
          "data": {
            "text/html": [
              "<div>\n",
              "<style scoped>\n",
              "    .dataframe tbody tr th:only-of-type {\n",
              "        vertical-align: middle;\n",
              "    }\n",
              "\n",
              "    .dataframe tbody tr th {\n",
              "        vertical-align: top;\n",
              "    }\n",
              "\n",
              "    .dataframe thead th {\n",
              "        text-align: right;\n",
              "    }\n",
              "</style>\n",
              "<table border=\"1\" class=\"dataframe\">\n",
              "  <thead>\n",
              "    <tr style=\"text-align: right;\">\n",
              "      <th></th>\n",
              "      <th>Rank</th>\n",
              "      <th>Name</th>\n",
              "      <th>Platform</th>\n",
              "      <th>Year</th>\n",
              "      <th>Genre</th>\n",
              "      <th>Publisher</th>\n",
              "      <th>NA_Sales</th>\n",
              "      <th>EU_Sales</th>\n",
              "      <th>JP_Sales</th>\n",
              "      <th>Other_Sales</th>\n",
              "      <th>Global_Sales</th>\n",
              "    </tr>\n",
              "  </thead>\n",
              "  <tbody>\n",
              "    <tr>\n",
              "      <th>0</th>\n",
              "      <td>1</td>\n",
              "      <td>Wii Sports</td>\n",
              "      <td>Wii</td>\n",
              "      <td>2006.0</td>\n",
              "      <td>Sports</td>\n",
              "      <td>Nintendo</td>\n",
              "      <td>41.49</td>\n",
              "      <td>29.02</td>\n",
              "      <td>3.77</td>\n",
              "      <td>8.46</td>\n",
              "      <td>82.74</td>\n",
              "    </tr>\n",
              "    <tr>\n",
              "      <th>1</th>\n",
              "      <td>2</td>\n",
              "      <td>Super Mario Bros.</td>\n",
              "      <td>NES</td>\n",
              "      <td>1985.0</td>\n",
              "      <td>Platform</td>\n",
              "      <td>Nintendo</td>\n",
              "      <td>29.08</td>\n",
              "      <td>3.58</td>\n",
              "      <td>6.81</td>\n",
              "      <td>0.77</td>\n",
              "      <td>40.24</td>\n",
              "    </tr>\n",
              "    <tr>\n",
              "      <th>2</th>\n",
              "      <td>3</td>\n",
              "      <td>Mario Kart Wii</td>\n",
              "      <td>Wii</td>\n",
              "      <td>2008.0</td>\n",
              "      <td>Racing</td>\n",
              "      <td>Nintendo</td>\n",
              "      <td>15.85</td>\n",
              "      <td>12.88</td>\n",
              "      <td>3.79</td>\n",
              "      <td>3.31</td>\n",
              "      <td>35.82</td>\n",
              "    </tr>\n",
              "    <tr>\n",
              "      <th>3</th>\n",
              "      <td>4</td>\n",
              "      <td>Wii Sports Resort</td>\n",
              "      <td>Wii</td>\n",
              "      <td>2009.0</td>\n",
              "      <td>Sports</td>\n",
              "      <td>Nintendo</td>\n",
              "      <td>15.75</td>\n",
              "      <td>11.01</td>\n",
              "      <td>3.28</td>\n",
              "      <td>2.96</td>\n",
              "      <td>33.00</td>\n",
              "    </tr>\n",
              "    <tr>\n",
              "      <th>4</th>\n",
              "      <td>5</td>\n",
              "      <td>Pokemon Red/Pokemon Blue</td>\n",
              "      <td>GB</td>\n",
              "      <td>1996.0</td>\n",
              "      <td>Role-Playing</td>\n",
              "      <td>Nintendo</td>\n",
              "      <td>11.27</td>\n",
              "      <td>8.89</td>\n",
              "      <td>10.22</td>\n",
              "      <td>1.00</td>\n",
              "      <td>31.37</td>\n",
              "    </tr>\n",
              "  </tbody>\n",
              "</table>\n",
              "</div>"
            ],
            "text/plain": [
              "   Rank                      Name Platform  ...  JP_Sales Other_Sales Global_Sales\n",
              "0     1                Wii Sports      Wii  ...      3.77        8.46        82.74\n",
              "1     2         Super Mario Bros.      NES  ...      6.81        0.77        40.24\n",
              "2     3            Mario Kart Wii      Wii  ...      3.79        3.31        35.82\n",
              "3     4         Wii Sports Resort      Wii  ...      3.28        2.96        33.00\n",
              "4     5  Pokemon Red/Pokemon Blue       GB  ...     10.22        1.00        31.37\n",
              "\n",
              "[5 rows x 11 columns]"
            ]
          },
          "metadata": {},
          "execution_count": 30
        }
      ]
    },
    {
      "cell_type": "markdown",
      "source": [
        "- Rank: Rank of Sales of the game\n",
        "- Name: name of the game\n",
        "- Plataform: Videogame destined for the game\n",
        "- Year: Launch year of the game\n",
        "- Genre: Genre of the game\n",
        "- Publisher: Creator of the game\n",
        "- NA_Sales: Number of sales (millions?) of the game\n",
        "- EU_Sales: Number of sales on USA\n",
        "- JP_Sales: Number pf sales on Japan\n",
        "- Other_Sales: Sales on other countries\n",
        "- Global_Sales: Sales all arround the globe"
      ],
      "metadata": {
        "id": "URwLVVGhNug-"
      },
      "id": "URwLVVGhNug-"
    },
    {
      "cell_type": "code",
      "source": [
        "df.isna().sum().sum() / len(df.index) # Just aproximately 2% of the data has NaN values -> we can drop it!"
      ],
      "metadata": {
        "id": "c7c2YguUOafl",
        "outputId": "d2af2612-ac8d-430f-f4be-8aa69302bf0c",
        "colab": {
          "base_uri": "https://localhost:8080/"
        }
      },
      "id": "c7c2YguUOafl",
      "execution_count": 31,
      "outputs": [
        {
          "output_type": "execute_result",
          "data": {
            "text/plain": [
              "0.019821665260874803"
            ]
          },
          "metadata": {},
          "execution_count": 31
        }
      ]
    },
    {
      "cell_type": "code",
      "source": [
        "df.isna().sum().sum()"
      ],
      "metadata": {
        "id": "xJo6pasTNtvm",
        "outputId": "9a9eb120-7517-4267-82f3-bd7b90b9c1dd",
        "colab": {
          "base_uri": "https://localhost:8080/"
        }
      },
      "id": "xJo6pasTNtvm",
      "execution_count": 32,
      "outputs": [
        {
          "output_type": "execute_result",
          "data": {
            "text/plain": [
              "329"
            ]
          },
          "metadata": {},
          "execution_count": 32
        }
      ]
    },
    {
      "cell_type": "code",
      "source": [
        "df = df.dropna()"
      ],
      "metadata": {
        "id": "3eFinCmiOcdM"
      },
      "id": "3eFinCmiOcdM",
      "execution_count": 33,
      "outputs": []
    },
    {
      "cell_type": "code",
      "source": [
        "genres = df.groupby('Genre').sum()\n",
        "genres"
      ],
      "metadata": {
        "id": "kCMCuwXbOeHT",
        "outputId": "90b4c7ea-ee9b-4962-a9a6-2d6662a4eebe",
        "colab": {
          "base_uri": "https://localhost:8080/",
          "height": 456
        }
      },
      "id": "kCMCuwXbOeHT",
      "execution_count": 35,
      "outputs": [
        {
          "output_type": "execute_result",
          "data": {
            "text/html": [
              "<div>\n",
              "<style scoped>\n",
              "    .dataframe tbody tr th:only-of-type {\n",
              "        vertical-align: middle;\n",
              "    }\n",
              "\n",
              "    .dataframe tbody tr th {\n",
              "        vertical-align: top;\n",
              "    }\n",
              "\n",
              "    .dataframe thead th {\n",
              "        text-align: right;\n",
              "    }\n",
              "</style>\n",
              "<table border=\"1\" class=\"dataframe\">\n",
              "  <thead>\n",
              "    <tr style=\"text-align: right;\">\n",
              "      <th></th>\n",
              "      <th>Rank</th>\n",
              "      <th>Year</th>\n",
              "      <th>NA_Sales</th>\n",
              "      <th>EU_Sales</th>\n",
              "      <th>JP_Sales</th>\n",
              "      <th>Other_Sales</th>\n",
              "      <th>Global_Sales</th>\n",
              "    </tr>\n",
              "    <tr>\n",
              "      <th>Genre</th>\n",
              "      <th></th>\n",
              "      <th></th>\n",
              "      <th></th>\n",
              "      <th></th>\n",
              "      <th></th>\n",
              "      <th></th>\n",
              "      <th></th>\n",
              "    </tr>\n",
              "  </thead>\n",
              "  <tbody>\n",
              "    <tr>\n",
              "      <th>Action</th>\n",
              "      <td>25955792</td>\n",
              "      <td>6527703.0</td>\n",
              "      <td>861.77</td>\n",
              "      <td>516.48</td>\n",
              "      <td>158.65</td>\n",
              "      <td>184.92</td>\n",
              "      <td>1722.84</td>\n",
              "    </tr>\n",
              "    <tr>\n",
              "      <th>Adventure</th>\n",
              "      <td>14704318</td>\n",
              "      <td>2558355.0</td>\n",
              "      <td>101.93</td>\n",
              "      <td>63.74</td>\n",
              "      <td>51.99</td>\n",
              "      <td>16.70</td>\n",
              "      <td>234.59</td>\n",
              "    </tr>\n",
              "    <tr>\n",
              "      <th>Fighting</th>\n",
              "      <td>6371780</td>\n",
              "      <td>1675871.0</td>\n",
              "      <td>220.74</td>\n",
              "      <td>100.00</td>\n",
              "      <td>87.15</td>\n",
              "      <td>36.19</td>\n",
              "      <td>444.05</td>\n",
              "    </tr>\n",
              "    <tr>\n",
              "      <th>Misc</th>\n",
              "      <td>14445141</td>\n",
              "      <td>3384308.0</td>\n",
              "      <td>396.92</td>\n",
              "      <td>211.77</td>\n",
              "      <td>106.67</td>\n",
              "      <td>73.92</td>\n",
              "      <td>789.87</td>\n",
              "    </tr>\n",
              "    <tr>\n",
              "      <th>Platform</th>\n",
              "      <td>6019939</td>\n",
              "      <td>1753335.0</td>\n",
              "      <td>445.99</td>\n",
              "      <td>200.65</td>\n",
              "      <td>130.65</td>\n",
              "      <td>51.51</td>\n",
              "      <td>829.13</td>\n",
              "    </tr>\n",
              "    <tr>\n",
              "      <th>Puzzle</th>\n",
              "      <td>5496785</td>\n",
              "      <td>1142980.0</td>\n",
              "      <td>122.01</td>\n",
              "      <td>50.52</td>\n",
              "      <td>56.68</td>\n",
              "      <td>12.47</td>\n",
              "      <td>242.21</td>\n",
              "    </tr>\n",
              "    <tr>\n",
              "      <th>Racing</th>\n",
              "      <td>9699328</td>\n",
              "      <td>2455923.0</td>\n",
              "      <td>356.93</td>\n",
              "      <td>236.31</td>\n",
              "      <td>56.61</td>\n",
              "      <td>76.68</td>\n",
              "      <td>726.76</td>\n",
              "    </tr>\n",
              "    <tr>\n",
              "      <th>Role-Playing</th>\n",
              "      <td>11840252</td>\n",
              "      <td>2950365.0</td>\n",
              "      <td>326.50</td>\n",
              "      <td>187.57</td>\n",
              "      <td>350.29</td>\n",
              "      <td>59.38</td>\n",
              "      <td>923.83</td>\n",
              "    </tr>\n",
              "    <tr>\n",
              "      <th>Shooter</th>\n",
              "      <td>9399409</td>\n",
              "      <td>2571588.0</td>\n",
              "      <td>575.16</td>\n",
              "      <td>310.45</td>\n",
              "      <td>38.18</td>\n",
              "      <td>101.90</td>\n",
              "      <td>1026.20</td>\n",
              "    </tr>\n",
              "    <tr>\n",
              "      <th>Simulation</th>\n",
              "      <td>7269349</td>\n",
              "      <td>1701558.0</td>\n",
              "      <td>181.78</td>\n",
              "      <td>113.02</td>\n",
              "      <td>63.54</td>\n",
              "      <td>31.36</td>\n",
              "      <td>389.98</td>\n",
              "    </tr>\n",
              "    <tr>\n",
              "      <th>Sports</th>\n",
              "      <td>17105195</td>\n",
              "      <td>4620621.0</td>\n",
              "      <td>670.09</td>\n",
              "      <td>371.34</td>\n",
              "      <td>134.76</td>\n",
              "      <td>132.65</td>\n",
              "      <td>1309.24</td>\n",
              "    </tr>\n",
              "    <tr>\n",
              "      <th>Strategy</th>\n",
              "      <td>6748201</td>\n",
              "      <td>1343746.0</td>\n",
              "      <td>67.83</td>\n",
              "      <td>44.84</td>\n",
              "      <td>49.10</td>\n",
              "      <td>11.23</td>\n",
              "      <td>173.27</td>\n",
              "    </tr>\n",
              "  </tbody>\n",
              "</table>\n",
              "</div>"
            ],
            "text/plain": [
              "                  Rank       Year  ...  Other_Sales  Global_Sales\n",
              "Genre                              ...                           \n",
              "Action        25955792  6527703.0  ...       184.92       1722.84\n",
              "Adventure     14704318  2558355.0  ...        16.70        234.59\n",
              "Fighting       6371780  1675871.0  ...        36.19        444.05\n",
              "Misc          14445141  3384308.0  ...        73.92        789.87\n",
              "Platform       6019939  1753335.0  ...        51.51        829.13\n",
              "Puzzle         5496785  1142980.0  ...        12.47        242.21\n",
              "Racing         9699328  2455923.0  ...        76.68        726.76\n",
              "Role-Playing  11840252  2950365.0  ...        59.38        923.83\n",
              "Shooter        9399409  2571588.0  ...       101.90       1026.20\n",
              "Simulation     7269349  1701558.0  ...        31.36        389.98\n",
              "Sports        17105195  4620621.0  ...       132.65       1309.24\n",
              "Strategy       6748201  1343746.0  ...        11.23        173.27\n",
              "\n",
              "[12 rows x 7 columns]"
            ]
          },
          "metadata": {},
          "execution_count": 35
        }
      ]
    },
    {
      "cell_type": "code",
      "source": [
        "plt.figure(figsize=(12, 12))\n",
        "plt.pie(x = genres['NA_Sales'], labels = genres.index, autopct='%1.2f%%')\n",
        "plt.show()"
      ],
      "metadata": {
        "id": "EsOQMBJIQGUe",
        "outputId": "38d09830-d682-49c4-9a9b-83e090c990b3",
        "colab": {
          "base_uri": "https://localhost:8080/",
          "height": 683
        }
      },
      "id": "EsOQMBJIQGUe",
      "execution_count": 40,
      "outputs": [
        {
          "output_type": "display_data",
          "data": {
            "image/png": "[encoded data removed]",
            "text/plain": [
              "<Figure size 864x864 with 1 Axes>"
            ]
          },
          "metadata": {}
        }
      ]
    },
    {
      "cell_type": "markdown",
      "source": [
        "Pretty bad, huh?"
      ],
      "metadata": {
        "id": "nQKvgLICR3xI"
      },
      "id": "nQKvgLICR3xI"
    },
    {
      "cell_type": "markdown",
      "source": [
        "To create a proportion bar graph on matplotlib, we have to do it mannualy, plotting the categories on the x-axis and the percentages of the variable on the y-axis."
      ],
      "metadata": {
        "id": "3aZ99qzqSspG"
      },
      "id": "3aZ99qzqSspG"
    },
    {
      "cell_type": "code",
      "source": [
        "genres = genres.sort_values(by='Global_Sales', ascending=False) # Sorting by global sales -> starting with the major\n",
        "percentages = genres['Global_Sales'] * 100 / genres['Global_Sales'].sum()\n",
        "categories = genres.index\n",
        "\n",
        "plt.figure(figsize=(16, 12))\n",
        "plt.style.use('seaborn-darkgrid')\n",
        "plt.bar(categories, percentages)\n",
        "plt.show()"
      ],
      "metadata": {
        "id": "mPdxMBAtR54O",
        "outputId": "5cdeb413-26b1-4481-ceb5-501c4eabee18",
        "colab": {
          "base_uri": "https://localhost:8080/",
          "height": 697
        }
      },
      "id": "mPdxMBAtR54O",
      "execution_count": 45,
      "outputs": [
        {
          "output_type": "display_data",
          "data": {
            "image/png": "[encoded data removed]",
            "text/plain": [
              "<Figure size 1152x864 with 1 Axes>"
            ]
          },
          "metadata": {
            "needs_background": "light"
          }
        }
      ]
    },
    {
      "cell_type": "markdown",
      "source": [
        "See the difference?\n",
        "\n",
        "- Proportion bar graphs make use of sizes for transmiting the proprotions ideas.\n",
        "- Pie and Donut Charts make use of areas and angles to do the same, which can be a lot overwhelming fot the visualization if it has too many elements."
      ],
      "metadata": {
        "id": "SaXh3LpdTiHj"
      },
      "id": "SaXh3LpdTiHj"
    },
    {
      "cell_type": "code",
      "source": [
        ""
      ],
      "metadata": {
        "id": "ZvCyeqnZTzHB"
      },
      "id": "ZvCyeqnZTzHB",
      "execution_count": null,
      "outputs": []
    }
  ],
  "metadata": {
    "kernelspec": {
      "display_name": "Python 3",
      "language": "python",
      "name": "python3"
    },
    "language_info": {
      "codemirror_mode": {
        "name": "ipython",
        "version": 3
      },
      "file_extension": ".py",
      "mimetype": "text/x-python",
      "name": "python",
      "nbconvert_exporter": "python",
      "pygments_lexer": "ipython3",
      "version": "3.8.8"
    },
    "colab": {
      "name": "Categoric_Visualization.ipynb",
      "provenance": [],
      "include_colab_link": true
    }
  },
  "nbformat": 4,
  "nbformat_minor": 5
}